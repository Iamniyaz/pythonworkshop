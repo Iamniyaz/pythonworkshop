{
 "cells": [
  {
   "cell_type": "code",
   "execution_count": 2,
   "id": "f976e6cb-ed3c-482f-b7a8-265e5aa826a6",
   "metadata": {},
   "outputs": [],
   "source": [
    "import pandas as pd"
   ]
  },
  {
   "cell_type": "code",
   "execution_count": 3,
   "id": "7403d0ef-49c5-472e-8fca-adaaffb8db74",
   "metadata": {},
   "outputs": [],
   "source": [
    "data = {\n",
    "    \"calories\": [420, 380, 390],\n",
    "    \"duration\": [50, 40, 45]\n",
    "    }"
   ]
  },
  {
   "cell_type": "code",
   "execution_count": 4,
   "id": "39e0e1ef-49d5-43f9-91d7-9a3fec190384",
   "metadata": {},
   "outputs": [
    {
     "name": "stdout",
     "output_type": "stream",
     "text": [
      "   calories  duration\n",
      "0       420        50\n",
      "1       380        40\n",
      "2       390        45\n"
     ]
    }
   ],
   "source": [
    "df = pd.DataFrame(data)\n",
    "print(df)"
   ]
  },
  {
   "cell_type": "code",
   "execution_count": 5,
   "id": "e9bad739-cc73-478f-8008-bf2288d93b4b",
   "metadata": {},
   "outputs": [
    {
     "name": "stdout",
     "output_type": "stream",
     "text": [
      "   calories  duration\n",
      "0       420        50\n",
      "1       380        40\n"
     ]
    }
   ],
   "source": [
    "print(df.loc[[0,1]]) "
   ]
  },
  {
   "cell_type": "code",
   "execution_count": 8,
   "id": "f724878e-92df-42c0-a226-220d134121fb",
   "metadata": {},
   "outputs": [],
   "source": [
    "df = pd.DataFrame(data,index=[\"d1\",\"d2\",\"d3\"])"
   ]
  },
  {
   "cell_type": "code",
   "execution_count": 9,
   "id": "a60d241a-299d-4fc7-a7e9-5a3574807a99",
   "metadata": {},
   "outputs": [
    {
     "name": "stdout",
     "output_type": "stream",
     "text": [
      "    calories  duration\n",
      "d1       420        50\n",
      "d2       380        40\n",
      "d3       390        45\n"
     ]
    }
   ],
   "source": [
    "print(df)"
   ]
  },
  {
   "cell_type": "code",
   "execution_count": null,
   "id": "f48f1b79-1d27-49f9-a1c0-5354aae1d3fd",
   "metadata": {},
   "outputs": [],
   "source": []
  }
 ],
 "metadata": {
  "kernelspec": {
   "display_name": "Python 3 (ipykernel)",
   "language": "python",
   "name": "python3"
  },
  "language_info": {
   "codemirror_mode": {
    "name": "ipython",
    "version": 3
   },
   "file_extension": ".py",
   "mimetype": "text/x-python",
   "name": "python",
   "nbconvert_exporter": "python",
   "pygments_lexer": "ipython3",
   "version": "3.12.1"
  }
 },
 "nbformat": 4,
 "nbformat_minor": 5
}
