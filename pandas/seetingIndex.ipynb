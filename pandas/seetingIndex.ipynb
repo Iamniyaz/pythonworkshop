{
 "cells": [
  {
   "cell_type": "code",
   "execution_count": 12,
   "id": "41903432-ea87-448d-ab12-422a6680d485",
   "metadata": {},
   "outputs": [],
   "source": [
    "import pandas as pd"
   ]
  },
  {
   "cell_type": "code",
   "execution_count": 13,
   "id": "31bc4403-81ee-48ca-8642-29478409d326",
   "metadata": {},
   "outputs": [],
   "source": [
    "data={'Name':['John','Alice','Bob'],\n",
    "      'Age':[25,28,32],\n",
    "      'City':['New York','London','Paris']}"
   ]
  },
  {
   "cell_type": "code",
   "execution_count": 14,
   "id": "b1a7db17-a81e-4541-b875-4924761b338a",
   "metadata": {},
   "outputs": [],
   "source": [
    "df=pd.DataFrame(data)"
   ]
  },
  {
   "cell_type": "code",
   "execution_count": 15,
   "id": "6f3d61b8-f811-4b70-9c06-93de6c1a8b50",
   "metadata": {},
   "outputs": [],
   "source": [
    "df.set_index('Name',inplace=True)\n"
   ]
  },
  {
   "cell_type": "code",
   "execution_count": 16,
   "id": "b54d6cbe-af84-4866-9283-9a08dbe90c80",
   "metadata": {},
   "outputs": [
    {
     "name": "stdout",
     "output_type": "stream",
     "text": [
      "       Age      City\n",
      "Name                \n",
      "John    25  New York\n",
      "Alice   28    London\n",
      "Bob     32     Paris\n"
     ]
    }
   ],
   "source": [
    "print(df)"
   ]
  },
  {
   "cell_type": "markdown",
   "id": "e85c272f-fc3b-4cad-9c5f-f2e3a0489ee2",
   "metadata": {},
   "source": [
    "#create a range index"
   ]
  },
  {
   "cell_type": "code",
   "execution_count": 17,
   "id": "27762546-4abe-4346-8386-169643b8e356",
   "metadata": {},
   "outputs": [],
   "source": [
    "df=pd.DataFrame(data,index=pd.RangeIndex(5,8,name='Index'))"
   ]
  },
  {
   "cell_type": "code",
   "execution_count": 19,
   "id": "ec259b6c-3406-4a40-aad2-2d7512d8fbf5",
   "metadata": {
    "scrolled": true
   },
   "outputs": [
    {
     "name": "stdout",
     "output_type": "stream",
     "text": [
      "        Name  Age      City\n",
      "Index                      \n",
      "5       John   25  New York\n",
      "6      Alice   28    London\n",
      "7        Bob   32     Paris\n"
     ]
    }
   ],
   "source": [
    "print(df)"
   ]
  },
  {
   "cell_type": "code",
   "execution_count": 21,
   "id": "010fdc5a-3760-45b4-8db5-c4ea94fca62e",
   "metadata": {},
   "outputs": [],
   "source": [
    "df=pd.DataFrame(data)"
   ]
  },
  {
   "cell_type": "code",
   "execution_count": 22,
   "id": "e9ef9611-ede8-472a-be0e-fa063d76bb09",
   "metadata": {},
   "outputs": [
    {
     "name": "stdout",
     "output_type": "stream",
     "text": [
      "Original DataFrame\n"
     ]
    }
   ],
   "source": [
    "print('Original DataFrame')"
   ]
  },
  {
   "cell_type": "code",
   "execution_count": 23,
   "id": "fcb68304-dba3-44fb-a095-7bd6f28405a0",
   "metadata": {},
   "outputs": [
    {
     "name": "stdout",
     "output_type": "stream",
     "text": [
      "    Name  Age      City\n",
      "0   John   25  New York\n",
      "1  Alice   28    London\n",
      "2    Bob   32     Paris\n"
     ]
    }
   ],
   "source": [
    "print(df)"
   ]
  },
  {
   "cell_type": "code",
   "execution_count": 24,
   "id": "b971fac3-b972-417a-ab78-8ee98fe4666a",
   "metadata": {},
   "outputs": [
    {
     "name": "stdout",
     "output_type": "stream",
     "text": [
      "\n"
     ]
    }
   ],
   "source": [
    "print()"
   ]
  },
  {
   "cell_type": "code",
   "execution_count": 25,
   "id": "cc281fa0-e371-4a78-8e51-3307b5665375",
   "metadata": {},
   "outputs": [],
   "source": [
    "df.rename(index={0:'A',1:'B',2:'C'},inplace=True)"
   ]
  },
  {
   "cell_type": "code",
   "execution_count": 26,
   "id": "9f4a4074-128c-491a-913e-4d47f81e1fcf",
   "metadata": {},
   "outputs": [
    {
     "name": "stdout",
     "output_type": "stream",
     "text": [
      "Modified DataFrame\n"
     ]
    }
   ],
   "source": [
    "print('Modified DataFrame')"
   ]
  },
  {
   "cell_type": "code",
   "execution_count": 27,
   "id": "0dd0d8d5-eb73-41f1-acea-311b02cca9ab",
   "metadata": {},
   "outputs": [
    {
     "name": "stdout",
     "output_type": "stream",
     "text": [
      "    Name  Age      City\n",
      "A   John   25  New York\n",
      "B  Alice   28    London\n",
      "C    Bob   32     Paris\n"
     ]
    }
   ],
   "source": [
    "print(df)"
   ]
  },
  {
   "cell_type": "markdown",
   "id": "18ae17d5-b7de-4c9e-b335-23fa72183f95",
   "metadata": {},
   "source": [
    "# Create Array using python using"
   ]
  },
  {
   "cell_type": "code",
   "execution_count": 28,
   "id": "f48bc35b-3c46-4b2f-a589-fdb2fd839382",
   "metadata": {},
   "outputs": [],
   "source": [
    "data=[2,4,6,8]"
   ]
  },
  {
   "cell_type": "code",
   "execution_count": 29,
   "id": "4b2ba5c7-c572-447a-b1fb-520814a13031",
   "metadata": {},
   "outputs": [],
   "source": [
    "array1=pd.array(data)"
   ]
  },
  {
   "cell_type": "code",
   "execution_count": 30,
   "id": "16081611-1b9b-4086-bb31-5f0ffbc2a82a",
   "metadata": {},
   "outputs": [
    {
     "name": "stdout",
     "output_type": "stream",
     "text": [
      "<IntegerArray>\n",
      "[2, 4, 6, 8]\n",
      "Length: 4, dtype: Int64\n"
     ]
    }
   ],
   "source": [
    "print(array1)"
   ]
  },
  {
   "cell_type": "code",
   "execution_count": null,
   "id": "e2224fd9-b3d9-4cc9-b9ff-fba72c8e2220",
   "metadata": {},
   "outputs": [],
   "source": [
    "data={'Name':[John','Alice',Bob'"
   ]
  }
 ],
 "metadata": {
  "kernelspec": {
   "display_name": "Python 3 (ipykernel)",
   "language": "python",
   "name": "python3"
  },
  "language_info": {
   "codemirror_mode": {
    "name": "ipython",
    "version": 3
   },
   "file_extension": ".py",
   "mimetype": "text/x-python",
   "name": "python",
   "nbconvert_exporter": "python",
   "pygments_lexer": "ipython3",
   "version": "3.12.1"
  }
 },
 "nbformat": 4,
 "nbformat_minor": 5
}
